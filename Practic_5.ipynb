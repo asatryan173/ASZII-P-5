{
  "nbformat": 4,
  "nbformat_minor": 0,
  "metadata": {
    "colab": {
      "provenance": []
    },
    "kernelspec": {
      "name": "python3",
      "display_name": "Python 3"
    },
    "language_info": {
      "name": "python"
    }
  },
  "cells": [
    {
      "cell_type": "markdown",
      "source": [
        "# Практика 5: Атака с ограниченной памятью (PGD - Projected Gradient Descent)\n",
        "\n",
        "Выполнил: Асатрян Давид Робертович ББМО-01-23\n",
        "\n",
        "# Цель:\n",
        "Изучить одну из наиболее мощных атак на модели ИИ — атаку Carlini-Wagner (CW). Задача — научиться использовать CW для создания противоречивых примеров и исследовать влияние этой атаки на обученные модели\n",
        "\n",
        "# Задачи:\n",
        "Загрузить ранее обученную модель на датасете MNIST.\n",
        "Изучить теоретические основы атаки Carlini-Wagner.\n",
        "Реализовать атаку CW с помощью фреймворка Foolbox.\n",
        "Оценить точность модели на противоречивых примерах и сравнить с результатами на обычных данных."
      ],
      "metadata": {
        "id": "i7yd8WmK_OJA"
      }
    },
    {
      "cell_type": "markdown",
      "source": [
        "Шаг 1: Загруска библиотек"
      ],
      "metadata": {
        "id": "GMYwDzg8g9hF"
      }
    },
    {
      "cell_type": "code",
      "source": [
        "import tensorflow as tf\n",
        "from tensorflow.keras.datasets import mnist\n",
        "from tensorflow.keras.utils import to_categorical\n",
        "import foolbox as fb\n",
        "import numpy as np\n",
        "import matplotlib.pyplot as plt\n",
        "import tensorflow as tf"
      ],
      "metadata": {
        "id": "TRWfUWhShCbl"
      },
      "execution_count": 11,
      "outputs": []
    },
    {
      "cell_type": "markdown",
      "source": [
        "Шаг 2: Загрузим обученную модель и данные MNIST"
      ],
      "metadata": {
        "id": "s1CCispMf9Qe"
      }
    },
    {
      "cell_type": "code",
      "execution_count": 12,
      "metadata": {
        "colab": {
          "base_uri": "https://localhost:8080/"
        },
        "id": "e51HVbKXeajI",
        "outputId": "db464f40-28dc-4cc9-d12e-ac1e73b03774"
      },
      "outputs": [
        {
          "output_type": "stream",
          "name": "stderr",
          "text": [
            "WARNING:absl:Compiled the loaded model, but the compiled metrics have yet to be built. `model.compile_metrics` will be empty until you train or evaluate the model.\n"
          ]
        },
        {
          "output_type": "stream",
          "name": "stdout",
          "text": [
            "\u001b[1m313/313\u001b[0m \u001b[32m━━━━━━━━━━━━━━━━━━━━\u001b[0m\u001b[37m\u001b[0m \u001b[1m2s\u001b[0m 4ms/step - accuracy: 0.9710 - loss: 0.1051\n",
            "Test accuracy on clean images: 0.9746999740600586\n"
          ]
        }
      ],
      "source": [
        "# Загрузка тестовых данных MNIST\n",
        "(_, _), (test_images, test_labels) = mnist.load_data()\n",
        "\n",
        "# Нормализация данных\n",
        "test_images = test_images / 255.0\n",
        "test_labels = to_categorical(test_labels, num_classes=10)\n",
        "\n",
        "# Загрузка обученной модели\n",
        "model = tf.keras.models.load_model('/content/mnist_model.h5')\n",
        "\n",
        "# Проверка точности модели на обычных данных\n",
        "test_loss, test_acc = model.evaluate(test_images, test_labels)\n",
        "print(f'Test accuracy on clean images: {test_acc}')"
      ]
    },
    {
      "cell_type": "markdown",
      "source": [
        "Шаг 2: Реализация атаки PGD с использованием Foolbox."
      ],
      "metadata": {
        "id": "R3mQw7TOALaX"
      }
    },
    {
      "cell_type": "code",
      "source": [
        "!pip install foolbox"
      ],
      "metadata": {
        "colab": {
          "base_uri": "https://localhost:8080/"
        },
        "id": "7mk2N43WALy2",
        "outputId": "b25ee06f-bfaf-46e5-cf78-937d96e6e213"
      },
      "execution_count": 13,
      "outputs": [
        {
          "output_type": "stream",
          "name": "stdout",
          "text": [
            "Requirement already satisfied: foolbox in /usr/local/lib/python3.10/dist-packages (3.3.4)\n",
            "Requirement already satisfied: numpy in /usr/local/lib/python3.10/dist-packages (from foolbox) (1.26.4)\n",
            "Requirement already satisfied: scipy in /usr/local/lib/python3.10/dist-packages (from foolbox) (1.13.1)\n",
            "Requirement already satisfied: setuptools in /usr/local/lib/python3.10/dist-packages (from foolbox) (75.1.0)\n",
            "Requirement already satisfied: eagerpy>=0.30.0 in /usr/local/lib/python3.10/dist-packages (from foolbox) (0.30.0)\n",
            "Requirement already satisfied: GitPython>=3.0.7 in /usr/local/lib/python3.10/dist-packages (from foolbox) (3.1.43)\n",
            "Requirement already satisfied: typing-extensions>=3.7.4.1 in /usr/local/lib/python3.10/dist-packages (from foolbox) (4.12.2)\n",
            "Requirement already satisfied: requests>=2.24.0 in /usr/local/lib/python3.10/dist-packages (from foolbox) (2.32.3)\n",
            "Requirement already satisfied: gitdb<5,>=4.0.1 in /usr/local/lib/python3.10/dist-packages (from GitPython>=3.0.7->foolbox) (4.0.11)\n",
            "Requirement already satisfied: charset-normalizer<4,>=2 in /usr/local/lib/python3.10/dist-packages (from requests>=2.24.0->foolbox) (3.4.0)\n",
            "Requirement already satisfied: idna<4,>=2.5 in /usr/local/lib/python3.10/dist-packages (from requests>=2.24.0->foolbox) (3.10)\n",
            "Requirement already satisfied: urllib3<3,>=1.21.1 in /usr/local/lib/python3.10/dist-packages (from requests>=2.24.0->foolbox) (2.2.3)\n",
            "Requirement already satisfied: certifi>=2017.4.17 in /usr/local/lib/python3.10/dist-packages (from requests>=2.24.0->foolbox) (2024.12.14)\n",
            "Requirement already satisfied: smmap<6,>=3.0.1 in /usr/local/lib/python3.10/dist-packages (from gitdb<5,>=4.0.1->GitPython>=3.0.7->foolbox) (5.0.1)\n"
          ]
        }
      ]
    },
    {
      "cell_type": "code",
      "source": [
        "fmodel = fb.TensorFlowModel(model, bounds=(0, 1))\n",
        "\n",
        "# Создание атаки DeepFool\n",
        "attack = fb.attacks.LinfPGD()\n",
        "\n",
        "# Выбор изображения для атаки (например, первое изображение из тестового набора)\n",
        "image = tf.convert_to_tensor(test_images[2], dtype=tf.float32)[None, ...]\n",
        "label = tf.convert_to_tensor(np.argmax(test_labels[0]), dtype=tf.int64)\n",
        "\n",
        "# Выполнение атаки\n",
        "adversarial_image, _, success = attack(fmodel, image, label[None], epsilons=0.05)\n",
        "\n",
        "# Вывод результатов\n",
        "plt.figure(figsize=(10, 5))\n",
        "plt.subplot(1, 2, 1)\n",
        "plt.title(\"Обычное изображение\")\n",
        "plt.imshow(image[0].numpy(), cmap=\"gray\")\n",
        "plt.axis('off')\n",
        "plt.subplot(1, 2, 2)\n",
        "plt.title(\"Projected Gradient Descent атака\")\n",
        "plt.imshow(adversarial_image[0].numpy(), cmap=\"gray\")\n",
        "plt.axis('off')\n",
        "\n",
        "plt.show()"
      ],
      "metadata": {
        "colab": {
          "base_uri": "https://localhost:8080/",
          "height": 411
        },
        "id": "xhiy6y5KAIaP",
        "outputId": "c80c1bfd-e4d6-4157-b44c-2a51b200cddb"
      },
      "execution_count": 14,
      "outputs": [
        {
          "output_type": "display_data",
          "data": {
            "text/plain": [
              "<Figure size 1000x500 with 2 Axes>"
            ],
            "image/png": "[encoded data removed]"
          },
          "metadata": {}
        }
      ]
    },
    {
      "cell_type": "markdown",
      "source": [
        "Шаг 4: Оценка модели на противоречивых примерах"
      ],
      "metadata": {
        "id": "egxvgxx-AQGX"
      }
    },
    {
      "cell_type": "code",
      "source": [
        "# Оценка точности до атаки\n",
        "clean_accuracy = evaluate_accuracy(fmodel, test_images_tf, test_labels_np)\n",
        "print(f\"Точность модели на чистых данных: {clean_accuracy * 100:.2f}%\")\n",
        "\n",
        "# Параметры атаки\n",
        "attack = fb.attacks.LinfPGD()\n",
        "epsilons = 0.1\n",
        "\n",
        "# Применение атаки на всем тестовом наборе\n",
        "advs, _, success = attack(fmodel, test_images_tf, test_labels_np, epsilons=epsilons)\n",
        "\n",
        "# Оценка точности после атаки\n",
        "adversarial_accuracy = evaluate_accuracy(fmodel, advs, test_labels_np)\n",
        "print(f\"Точность модели после атаки: {adversarial_accuracy * 100:.2f}%\")"
      ],
      "metadata": {
        "colab": {
          "base_uri": "https://localhost:8080/"
        },
        "id": "6fbOWNHfASOB",
        "outputId": "56ac37d4-dd21-4be5-e976-d4a4cfc0b868"
      },
      "execution_count": 18,
      "outputs": [
        {
          "output_type": "stream",
          "name": "stdout",
          "text": [
            "Точность модели на чистых данных: 97.47%\n",
            "Точность модели после атаки: 6.78%\n"
          ]
        }
      ]
    },
    {
      "cell_type": "markdown",
      "source": [
        "Вывод:\n",
        "Как види, точность снизилась с 97,47% до 6,78%, что показывает на уязвимость модели"
      ],
      "metadata": {
        "id": "gKCDDqcYNh7o"
      }
    }
  ]
}